{
 "cells": [
  {
   "cell_type": "code",
   "execution_count": 346,
   "metadata": {},
   "outputs": [
    {
     "name": "stdout",
     "output_type": "stream",
     "text": [
      "Requirement already satisfied: emoji in /Users/simonahendl/opt/anaconda3/envs/py36/lib/python3.6/site-packages (1.6.1)\n",
      "Requirement already satisfied: langdetect in /Users/simonahendl/opt/anaconda3/envs/py36/lib/python3.6/site-packages (1.0.9)\n",
      "Requirement already satisfied: six in /Users/simonahendl/opt/anaconda3/envs/py36/lib/python3.6/site-packages (from langdetect) (1.15.0)\n",
      "Requirement already satisfied: calplot in /Users/simonahendl/opt/anaconda3/envs/py36/lib/python3.6/site-packages (0.1.7.3)\n",
      "Requirement already satisfied: pandas>=1 in /Users/simonahendl/opt/anaconda3/envs/py36/lib/python3.6/site-packages (from calplot) (1.0.5)\n",
      "Requirement already satisfied: matplotlib in /Users/simonahendl/opt/anaconda3/envs/py36/lib/python3.6/site-packages (from calplot) (3.2.2)\n",
      "Requirement already satisfied: numpy in /Users/simonahendl/opt/anaconda3/envs/py36/lib/python3.6/site-packages (from calplot) (1.17.0)\n",
      "Requirement already satisfied: python-dateutil>=2.6.1 in /Users/simonahendl/opt/anaconda3/envs/py36/lib/python3.6/site-packages (from pandas>=1->calplot) (2.8.1)\n",
      "Requirement already satisfied: pytz>=2017.2 in /Users/simonahendl/opt/anaconda3/envs/py36/lib/python3.6/site-packages (from pandas>=1->calplot) (2020.1)\n",
      "Requirement already satisfied: pyparsing!=2.0.4,!=2.1.2,!=2.1.6,>=2.0.1 in /Users/simonahendl/opt/anaconda3/envs/py36/lib/python3.6/site-packages (from matplotlib->calplot) (2.4.7)\n",
      "Requirement already satisfied: kiwisolver>=1.0.1 in /Users/simonahendl/opt/anaconda3/envs/py36/lib/python3.6/site-packages (from matplotlib->calplot) (1.2.0)\n",
      "Requirement already satisfied: cycler>=0.10 in /Users/simonahendl/opt/anaconda3/envs/py36/lib/python3.6/site-packages (from matplotlib->calplot) (0.10.0)\n",
      "Requirement already satisfied: six>=1.5 in /Users/simonahendl/opt/anaconda3/envs/py36/lib/python3.6/site-packages (from python-dateutil>=2.6.1->pandas>=1->calplot) (1.15.0)\n",
      "Requirement already satisfied: calmap in /Users/simonahendl/opt/anaconda3/envs/py36/lib/python3.6/site-packages (0.0.9)\n",
      "Requirement already satisfied: pandas in /Users/simonahendl/opt/anaconda3/envs/py36/lib/python3.6/site-packages (from calmap) (1.0.5)\n",
      "Requirement already satisfied: numpy in /Users/simonahendl/opt/anaconda3/envs/py36/lib/python3.6/site-packages (from calmap) (1.17.0)\n",
      "Requirement already satisfied: matplotlib in /Users/simonahendl/opt/anaconda3/envs/py36/lib/python3.6/site-packages (from calmap) (3.2.2)\n",
      "Requirement already satisfied: pytz>=2017.2 in /Users/simonahendl/opt/anaconda3/envs/py36/lib/python3.6/site-packages (from pandas->calmap) (2020.1)\n",
      "Requirement already satisfied: python-dateutil>=2.6.1 in /Users/simonahendl/opt/anaconda3/envs/py36/lib/python3.6/site-packages (from pandas->calmap) (2.8.1)\n",
      "Requirement already satisfied: pyparsing!=2.0.4,!=2.1.2,!=2.1.6,>=2.0.1 in /Users/simonahendl/opt/anaconda3/envs/py36/lib/python3.6/site-packages (from matplotlib->calmap) (2.4.7)\n",
      "Requirement already satisfied: kiwisolver>=1.0.1 in /Users/simonahendl/opt/anaconda3/envs/py36/lib/python3.6/site-packages (from matplotlib->calmap) (1.2.0)\n",
      "Requirement already satisfied: cycler>=0.10 in /Users/simonahendl/opt/anaconda3/envs/py36/lib/python3.6/site-packages (from matplotlib->calmap) (0.10.0)\n",
      "Requirement already satisfied: six>=1.5 in /Users/simonahendl/opt/anaconda3/envs/py36/lib/python3.6/site-packages (from python-dateutil>=2.6.1->pandas->calmap) (1.15.0)\n"
     ]
    }
   ],
   "source": [
    "!pip install emoji\n",
    "!pip install langdetect\n",
    "!pip install calplot\n",
    "!pip install calmap"
   ]
  },
  {
   "cell_type": "code",
   "execution_count": 347,
   "metadata": {},
   "outputs": [],
   "source": [
    "import pandas as pd\n",
    "import datetime as dt\n",
    "import matplotlib.pyplot as plt\n",
    "import calplot\n",
    "import calmap\n",
    "import seaborn as sns\n",
    "%matplotlib inline\n",
    "import datetime\n",
    "from datetime import datetime\n",
    "import csv\n",
    "from matplotlib import rc,rcParams\n",
    "import re\n",
    "from nltk.sentiment import SentimentIntensityAnalyzer\n",
    "import emoji\n",
    "from langdetect import detect\n",
    "from matplotlib.pyplot import figure\n",
    "import numpy as np\n",
    "from scipy.stats import pearsonr"
   ]
  },
  {
   "cell_type": "markdown",
   "metadata": {},
   "source": [
    "**Pfizer Tweet Data begins on 2020-12-20 and (available data) ends on 2021-11-14.**\n",
    "\n",
    "**Pfizer Stock Data is available from 1972-06-01 and ends on 2021-11-12.**\n",
    "\n",
    "**The SPY Stock Data has data from the last five years. The SPDR S&P 500 ETF Trust, also known as the SPY ETF, is one of the most popular funds that aims to track the Standard & Poor's 500 Index, which comprises 500 large- and mid-cap U.S. stocks. SPY ETF will be used in this project as a benchmark for overall stock market performance (to compare to the Pfizer Stock Data)**\n",
    "\n",
    "**To ensure that we are looking at the same timeframe for all three (Pfizer Tweet Data, Pfizer Stock Data (NYSE), and SPY Data, the datasets were filtered to contain data from 2020-12-21 to 2021-11-12. 2020-12-20 is a Sunday and no stock data is available, so 2020-12-21 is the starting point**"
   ]
  },
  {
   "cell_type": "markdown",
   "metadata": {},
   "source": [
    "<span style=\"color:Blue\">Pfizer Tweets - Sectioning</span>"
   ]
  },
  {
   "cell_type": "code",
   "execution_count": 348,
   "metadata": {},
   "outputs": [],
   "source": [
    "pfizer_tweets = pd.read_csv(\"vaccination_tweets.csv\")"
   ]
  },
  {
   "cell_type": "code",
   "execution_count": 349,
   "metadata": {},
   "outputs": [],
   "source": [
    "pfizer_tweets = pfizer_tweets[~(pfizer_tweets['date'] > '2021-11-13')]\n",
    "pfizer_tweets = pfizer_tweets[~(pfizer_tweets['date'] < '2020-12-21')]\n",
    "\n",
    "#pfizer_tweets.sort_values('date', ascending=False)"
   ]
  },
  {
   "cell_type": "markdown",
   "metadata": {},
   "source": [
    "<span style=\"color:Blue\">Pfizer Stock Data - Sectioning</span>"
   ]
  },
  {
   "cell_type": "code",
   "execution_count": 350,
   "metadata": {},
   "outputs": [],
   "source": [
    "pfizer_stock_data = pd.read_csv(\"PFE.csv\")\n",
    "#pfizer_stock_data\n",
    "\n",
    "pfizer_stock_data['Date'] = pd.to_datetime(pfizer_stock_data['Date'])\n",
    "\n",
    "pfizer_stock_data = pfizer_stock_data[~(pfizer_stock_data['Date'] < '2020-12-21')]\n",
    "pfizer_stock_data = pfizer_stock_data[~(pfizer_stock_data['Date'] > '2021-11-12')]\n",
    "pfizer_stock_data = pfizer_stock_data.reset_index()"
   ]
  },
  {
   "cell_type": "code",
   "execution_count": 351,
   "metadata": {},
   "outputs": [],
   "source": [
    "#pfizer_stock_data"
   ]
  },
  {
   "cell_type": "markdown",
   "metadata": {},
   "source": [
    "<span style=\"color:Blue\">SPY Data - Sectioning</span>"
   ]
  },
  {
   "cell_type": "code",
   "execution_count": 352,
   "metadata": {},
   "outputs": [],
   "source": [
    "spy_stock_data = pd.read_csv('SPY_Data.csv')"
   ]
  },
  {
   "cell_type": "code",
   "execution_count": 353,
   "metadata": {},
   "outputs": [],
   "source": [
    "spy_stock_data['Date'] = pd.to_datetime(spy_stock_data['Date'])\n",
    "\n",
    "spy_stock_data.Date = spy_stock_data.Date.dt.strftime('%Y-%m-%d')\n",
    "\n",
    "\n",
    "spy_stock_data = spy_stock_data[~(spy_stock_data['Date'] < '2020-12-20')]\n",
    "spy_stock_data = spy_stock_data[~(spy_stock_data['Date'] > '2021-11-12')]"
   ]
  },
  {
   "cell_type": "code",
   "execution_count": 354,
   "metadata": {},
   "outputs": [],
   "source": [
    "spy_stock_data = spy_stock_data.sort_values('Date', ascending=True)"
   ]
  },
  {
   "cell_type": "code",
   "execution_count": 355,
   "metadata": {},
   "outputs": [],
   "source": [
    "spy_stock_data.reset_index(drop=True, inplace=True) "
   ]
  },
  {
   "cell_type": "code",
   "execution_count": 356,
   "metadata": {},
   "outputs": [],
   "source": [
    "#spy_stock_data"
   ]
  },
  {
   "cell_type": "markdown",
   "metadata": {},
   "source": [
    "## Tweet Preprocessing"
   ]
  },
  {
   "cell_type": "markdown",
   "metadata": {},
   "source": [
    "*Not necessary to remove non-English tweets from the dataframe as Vader can analyze non-English tweets, and non-English speaking individuals can tweet about the vaccine AND participate in the stock market*."
   ]
  },
  {
   "cell_type": "markdown",
   "metadata": {},
   "source": [
    "**Converting all emojis in tweets to text**"
   ]
  },
  {
   "cell_type": "code",
   "execution_count": 357,
   "metadata": {},
   "outputs": [],
   "source": [
    "#!pip install vaderSentiment"
   ]
  },
  {
   "cell_type": "code",
   "execution_count": 358,
   "metadata": {},
   "outputs": [],
   "source": [
    "#Insert String\n",
    "#Return String\n",
    "\n",
    "sentim_analyzer = SentimentIntensityAnalyzer()\n",
    "\n",
    "def emoji_to_text(text):\n",
    "    edicts = emoji.emoji_lis(text)\n",
    "    \n",
    "    for e in edicts:\n",
    "        replacement = \" \"+emoji.demojize(e[\"emoji\"]).replace(\":\",\"\").replace(\"_\",\" \")\n",
    "        text=text.replace(e[\"emoji\"],replacement)\n",
    "    return text"
   ]
  },
  {
   "cell_type": "code",
   "execution_count": 359,
   "metadata": {},
   "outputs": [
    {
     "name": "stdout",
     "output_type": "stream",
     "text": [
      "Catch utf-8 emoji such as  heart with arrow and  kiss mark and  beaming face with smiling eyes\n"
     ]
    }
   ],
   "source": [
    "#Test for check_english_tweets\n",
    "tweet_emoji = 'Catch utf-8 emoji such as 💘 and 💋 and 😁'\n",
    "\n",
    "print(emoji_to_text(tweet_emoji))"
   ]
  },
  {
   "cell_type": "code",
   "execution_count": 360,
   "metadata": {},
   "outputs": [],
   "source": [
    "pfizer_tweets['text'] = pfizer_tweets['text'].apply(emoji_to_text)"
   ]
  },
  {
   "cell_type": "markdown",
   "metadata": {},
   "source": [
    "**Cleaning tweets of mentions, URL links, and special characters because this not meaningful data for the Vader Sentiment Analyzer**"
   ]
  },
  {
   "cell_type": "code",
   "execution_count": 361,
   "metadata": {},
   "outputs": [],
   "source": [
    "#Insert two strings\n",
    "#String\n",
    "\n",
    "def remove_pattern(text, pattern):\n",
    "    r = re.findall(pattern, text)\n",
    "    for item in r:\n",
    "        text = re.sub(item, '', text)        \n",
    "    return text"
   ]
  },
  {
   "cell_type": "code",
   "execution_count": 362,
   "metadata": {},
   "outputs": [
    {
     "name": "stdout",
     "output_type": "stream",
     "text": [
      "I do not like \n"
     ]
    }
   ],
   "source": [
    "#Test for remove_pattern\n",
    "print(remove_pattern(\"I do not like @United_Airlines\", r'@United_Airlines'))"
   ]
  },
  {
   "cell_type": "code",
   "execution_count": 363,
   "metadata": {},
   "outputs": [],
   "source": [
    "#Insert String\n",
    "#Return String\n",
    "def clean_tweets(tweet):\n",
    "    #remove twitter handles (@xxx)\n",
    "    tweet = remove_pattern(tweet, \"@[\\w]*\")\n",
    "    \n",
    "    #remove URL links (httpxxx)\n",
    "    tweet = remove_pattern(tweet, \"https?://[A-Za-z0-9./]*\")\n",
    "    \n",
    "    #remove special characters, numbers, punctuations (except for #)\n",
    "    tweet = re.sub(\"[^a-zA-Z]\", \" \", tweet)\n",
    "    \n",
    "    return tweet"
   ]
  },
  {
   "cell_type": "code",
   "execution_count": 364,
   "metadata": {},
   "outputs": [
    {
     "name": "stdout",
     "output_type": "stream",
     "text": [
      "COVID Vaccine Updates        \n"
     ]
    }
   ],
   "source": [
    "#Test for clean_tweets\n",
    "print(clean_tweets('COVID Vaccine Updates, @POTUS: https://www.whitehouse.gov/ ***'))"
   ]
  },
  {
   "cell_type": "code",
   "execution_count": 365,
   "metadata": {},
   "outputs": [],
   "source": [
    "pfizer_tweets['text'] = pfizer_tweets['text'].apply(clean_tweets)"
   ]
  },
  {
   "cell_type": "markdown",
   "metadata": {},
   "source": [
    "## Finding Polarity Scores of Tweets and Daily Average Polarity Score for Twitter Data"
   ]
  },
  {
   "cell_type": "markdown",
   "metadata": {},
   "source": [
    "**Finding Compound polarity score of each tweet and extracting the polarity score to put in a column**"
   ]
  },
  {
   "cell_type": "code",
   "execution_count": 366,
   "metadata": {},
   "outputs": [],
   "source": [
    "#Insert a String\n",
    "#Returns a Float\n",
    "def extract_compound_score(text):\n",
    "    polarity_scores = sentim_analyzer.polarity_scores(text)\n",
    "    compound_score = polarity_scores['compound']\n",
    "    return compound_score"
   ]
  },
  {
   "cell_type": "code",
   "execution_count": 367,
   "metadata": {},
   "outputs": [
    {
     "name": "stdout",
     "output_type": "stream",
     "text": [
      "0.7003\n"
     ]
    }
   ],
   "source": [
    "#Test for extract_compound_score\n",
    "print(extract_compound_score('Catch utf-8 emoji such as  heart with arrow and  kiss mark and  beaming face with smiling eyes'))"
   ]
  },
  {
   "cell_type": "code",
   "execution_count": 368,
   "metadata": {},
   "outputs": [],
   "source": [
    "pfizer_tweets['compound_score'] = pfizer_tweets['text'].apply(extract_compound_score)"
   ]
  },
  {
   "cell_type": "code",
   "execution_count": 369,
   "metadata": {},
   "outputs": [],
   "source": [
    "pfizer_tweets.reset_index(drop=True, inplace=True) "
   ]
  },
  {
   "cell_type": "code",
   "execution_count": 370,
   "metadata": {},
   "outputs": [],
   "source": [
    "#pfizer_tweets"
   ]
  },
  {
   "cell_type": "markdown",
   "metadata": {},
   "source": [
    "**Finding average compound polarity score for each day**"
   ]
  },
  {
   "cell_type": "code",
   "execution_count": 371,
   "metadata": {},
   "outputs": [],
   "source": [
    "#Insert a String\n",
    "#Return a String\n",
    "def entire_date(string):\n",
    "    string1 = string.split(\" \")\n",
    "    pattern = r'(\\d{4}-\\d{2}-\\d{2})'\n",
    "    grouped_date = re.search(pattern, str(string1[0]))\n",
    "    if bool(grouped_date) == True:\n",
    "        return grouped_date.group(1)"
   ]
  },
  {
   "cell_type": "code",
   "execution_count": 372,
   "metadata": {},
   "outputs": [
    {
     "name": "stdout",
     "output_type": "stream",
     "text": [
      "2016-12-11\n"
     ]
    }
   ],
   "source": [
    "#Test for entire_date\n",
    "print(entire_date('2016-12-11 16:32:21'))"
   ]
  },
  {
   "cell_type": "code",
   "execution_count": 373,
   "metadata": {},
   "outputs": [],
   "source": [
    "#Apply Function\n",
    "pfizer_tweets['date_no_time'] = pfizer_tweets['date'].apply(entire_date)\n",
    "\n",
    "#Renaming columns to prepare for merging tables\n",
    "pfizer_tweets = pfizer_tweets.rename(columns={\"date_no_time\": \"date\", \"date\": \"date_time\"})\n",
    "\n",
    "#Groupby and Average\n",
    "compound_score_daily_average_series = pfizer_tweets.groupby('date').compound_score.mean()\n",
    "comp_d_avg_df = pd.DataFrame(compound_score_daily_average_series)"
   ]
  },
  {
   "cell_type": "code",
   "execution_count": 374,
   "metadata": {},
   "outputs": [
    {
     "data": {
      "text/html": [
       "<div>\n",
       "<style scoped>\n",
       "    .dataframe tbody tr th:only-of-type {\n",
       "        vertical-align: middle;\n",
       "    }\n",
       "\n",
       "    .dataframe tbody tr th {\n",
       "        vertical-align: top;\n",
       "    }\n",
       "\n",
       "    .dataframe thead th {\n",
       "        text-align: right;\n",
       "    }\n",
       "</style>\n",
       "<table border=\"1\" class=\"dataframe\">\n",
       "  <thead>\n",
       "    <tr style=\"text-align: right;\">\n",
       "      <th></th>\n",
       "      <th>compound_score</th>\n",
       "    </tr>\n",
       "    <tr>\n",
       "      <th>date</th>\n",
       "      <th></th>\n",
       "    </tr>\n",
       "  </thead>\n",
       "  <tbody>\n",
       "    <tr>\n",
       "      <th>2020-12-21</th>\n",
       "      <td>0.164909</td>\n",
       "    </tr>\n",
       "    <tr>\n",
       "      <th>2020-12-22</th>\n",
       "      <td>0.165805</td>\n",
       "    </tr>\n",
       "    <tr>\n",
       "      <th>2020-12-23</th>\n",
       "      <td>0.188234</td>\n",
       "    </tr>\n",
       "    <tr>\n",
       "      <th>2020-12-24</th>\n",
       "      <td>0.120782</td>\n",
       "    </tr>\n",
       "    <tr>\n",
       "      <th>2020-12-25</th>\n",
       "      <td>0.094935</td>\n",
       "    </tr>\n",
       "    <tr>\n",
       "      <th>...</th>\n",
       "      <td>...</td>\n",
       "    </tr>\n",
       "    <tr>\n",
       "      <th>2021-11-08</th>\n",
       "      <td>0.238350</td>\n",
       "    </tr>\n",
       "    <tr>\n",
       "      <th>2021-11-09</th>\n",
       "      <td>-0.032040</td>\n",
       "    </tr>\n",
       "    <tr>\n",
       "      <th>2021-11-10</th>\n",
       "      <td>-0.014208</td>\n",
       "    </tr>\n",
       "    <tr>\n",
       "      <th>2021-11-11</th>\n",
       "      <td>0.034292</td>\n",
       "    </tr>\n",
       "    <tr>\n",
       "      <th>2021-11-12</th>\n",
       "      <td>0.211394</td>\n",
       "    </tr>\n",
       "  </tbody>\n",
       "</table>\n",
       "<p>262 rows × 1 columns</p>\n",
       "</div>"
      ],
      "text/plain": [
       "            compound_score\n",
       "date                      \n",
       "2020-12-21        0.164909\n",
       "2020-12-22        0.165805\n",
       "2020-12-23        0.188234\n",
       "2020-12-24        0.120782\n",
       "2020-12-25        0.094935\n",
       "...                    ...\n",
       "2021-11-08        0.238350\n",
       "2021-11-09       -0.032040\n",
       "2021-11-10       -0.014208\n",
       "2021-11-11        0.034292\n",
       "2021-11-12        0.211394\n",
       "\n",
       "[262 rows x 1 columns]"
      ]
     },
     "execution_count": 374,
     "metadata": {},
     "output_type": "execute_result"
    }
   ],
   "source": [
    "comp_d_avg_df"
   ]
  },
  {
   "cell_type": "markdown",
   "metadata": {},
   "source": [
    "## Finding Daily Percent Change of Pfizer Stock Data and SPY Stock Data"
   ]
  },
  {
   "cell_type": "code",
   "execution_count": 375,
   "metadata": {},
   "outputs": [],
   "source": [
    "pfizer_stock_data['daily_percent_change_PFE'] = (pfizer_stock_data['Close'] - pfizer_stock_data['Open'])/pfizer_stock_data['Open']"
   ]
  },
  {
   "cell_type": "code",
   "execution_count": 376,
   "metadata": {},
   "outputs": [],
   "source": [
    "#pfizer_stock_data"
   ]
  },
  {
   "cell_type": "code",
   "execution_count": 377,
   "metadata": {},
   "outputs": [],
   "source": [
    "spy_stock_data['daily_percent_change_spy'] = (spy_stock_data['Close/Last'] - spy_stock_data['Open'])/spy_stock_data['Open']"
   ]
  },
  {
   "cell_type": "code",
   "execution_count": 378,
   "metadata": {},
   "outputs": [],
   "source": [
    "#spy_stock_data"
   ]
  },
  {
   "cell_type": "markdown",
   "metadata": {},
   "source": [
    "## Merging DataFrames together"
   ]
  },
  {
   "cell_type": "markdown",
   "metadata": {},
   "source": [
    "**Preparing DataFrames for merge by dropping unnecessary columns**"
   ]
  },
  {
   "cell_type": "code",
   "execution_count": 379,
   "metadata": {},
   "outputs": [
    {
     "data": {
      "text/html": [
       "<div>\n",
       "<style scoped>\n",
       "    .dataframe tbody tr th:only-of-type {\n",
       "        vertical-align: middle;\n",
       "    }\n",
       "\n",
       "    .dataframe tbody tr th {\n",
       "        vertical-align: top;\n",
       "    }\n",
       "\n",
       "    .dataframe thead th {\n",
       "        text-align: right;\n",
       "    }\n",
       "</style>\n",
       "<table border=\"1\" class=\"dataframe\">\n",
       "  <thead>\n",
       "    <tr style=\"text-align: right;\">\n",
       "      <th></th>\n",
       "      <th>date</th>\n",
       "      <th>daily_percent_change_spy</th>\n",
       "    </tr>\n",
       "  </thead>\n",
       "  <tbody>\n",
       "    <tr>\n",
       "      <th>0</th>\n",
       "      <td>2020-12-21</td>\n",
       "      <td>0.007918</td>\n",
       "    </tr>\n",
       "    <tr>\n",
       "      <th>1</th>\n",
       "      <td>2020-12-22</td>\n",
       "      <td>-0.002634</td>\n",
       "    </tr>\n",
       "    <tr>\n",
       "      <th>2</th>\n",
       "      <td>2020-12-23</td>\n",
       "      <td>-0.001928</td>\n",
       "    </tr>\n",
       "    <tr>\n",
       "      <th>3</th>\n",
       "      <td>2020-12-24</td>\n",
       "      <td>0.002499</td>\n",
       "    </tr>\n",
       "    <tr>\n",
       "      <th>4</th>\n",
       "      <td>2020-12-28</td>\n",
       "      <td>0.001157</td>\n",
       "    </tr>\n",
       "    <tr>\n",
       "      <th>...</th>\n",
       "      <td>...</td>\n",
       "      <td>...</td>\n",
       "    </tr>\n",
       "    <tr>\n",
       "      <th>222</th>\n",
       "      <td>2021-11-08</td>\n",
       "      <td>-0.001639</td>\n",
       "    </tr>\n",
       "    <tr>\n",
       "      <th>223</th>\n",
       "      <td>2021-11-09</td>\n",
       "      <td>-0.004134</td>\n",
       "    </tr>\n",
       "    <tr>\n",
       "      <th>224</th>\n",
       "      <td>2021-11-10</td>\n",
       "      <td>-0.004210</td>\n",
       "    </tr>\n",
       "    <tr>\n",
       "      <th>225</th>\n",
       "      <td>2021-11-11</td>\n",
       "      <td>-0.003095</td>\n",
       "    </tr>\n",
       "    <tr>\n",
       "      <th>226</th>\n",
       "      <td>2021-11-12</td>\n",
       "      <td>0.004622</td>\n",
       "    </tr>\n",
       "  </tbody>\n",
       "</table>\n",
       "<p>227 rows × 2 columns</p>\n",
       "</div>"
      ],
      "text/plain": [
       "           date  daily_percent_change_spy\n",
       "0    2020-12-21                  0.007918\n",
       "1    2020-12-22                 -0.002634\n",
       "2    2020-12-23                 -0.001928\n",
       "3    2020-12-24                  0.002499\n",
       "4    2020-12-28                  0.001157\n",
       "..          ...                       ...\n",
       "222  2021-11-08                 -0.001639\n",
       "223  2021-11-09                 -0.004134\n",
       "224  2021-11-10                 -0.004210\n",
       "225  2021-11-11                 -0.003095\n",
       "226  2021-11-12                  0.004622\n",
       "\n",
       "[227 rows x 2 columns]"
      ]
     },
     "execution_count": 379,
     "metadata": {},
     "output_type": "execute_result"
    }
   ],
   "source": [
    "#Dropping not needed columns and renaming columns\n",
    "spy_stock_data_copy = spy_stock_data.copy()\n",
    "spy_stock_data_copy = spy_stock_data_copy.drop(['Close/Last', 'Volume', 'Open', 'High', 'Low'], axis=1)\n",
    "spy_stock_data_copy = spy_stock_data_copy.rename(columns={\"Date\": \"date\"})\n",
    "spy_stock_data_copy"
   ]
  },
  {
   "cell_type": "code",
   "execution_count": 380,
   "metadata": {},
   "outputs": [],
   "source": [
    "#Dropping not needed columns and renaming columns\n",
    "pfizer_stock_data_copy = pfizer_stock_data.copy()\n",
    "pfizer_stock_data_copy = pfizer_stock_data_copy.drop(['index', 'Volume', 'Open', 'High', 'Low', 'Close', 'Adj Close'], axis=1)\n",
    "pfizer_stock_data_copy = pfizer_stock_data_copy.rename(columns={\"Date\": \"date\"})"
   ]
  },
  {
   "cell_type": "code",
   "execution_count": 381,
   "metadata": {},
   "outputs": [],
   "source": [
    "#Converting Datetime to strings\n",
    "pfizer_stock_data_copy['date'] = pd.to_datetime(pfizer_stock_data_copy['date'])\n",
    "\n",
    "pfizer_stock_data_copy.date = pfizer_stock_data_copy.date.dt.strftime('%Y-%m-%d')"
   ]
  },
  {
   "cell_type": "code",
   "execution_count": 382,
   "metadata": {},
   "outputs": [],
   "source": [
    "#Resetting Index to merge properly on \"date\"\n",
    "comp_d_avg_df.reset_index(level=0, inplace=True)"
   ]
  },
  {
   "cell_type": "code",
   "execution_count": 383,
   "metadata": {},
   "outputs": [
    {
     "data": {
      "text/html": [
       "<div>\n",
       "<style scoped>\n",
       "    .dataframe tbody tr th:only-of-type {\n",
       "        vertical-align: middle;\n",
       "    }\n",
       "\n",
       "    .dataframe tbody tr th {\n",
       "        vertical-align: top;\n",
       "    }\n",
       "\n",
       "    .dataframe thead th {\n",
       "        text-align: right;\n",
       "    }\n",
       "</style>\n",
       "<table border=\"1\" class=\"dataframe\">\n",
       "  <thead>\n",
       "    <tr style=\"text-align: right;\">\n",
       "      <th></th>\n",
       "      <th>date</th>\n",
       "      <th>compound_score</th>\n",
       "    </tr>\n",
       "  </thead>\n",
       "  <tbody>\n",
       "    <tr>\n",
       "      <th>0</th>\n",
       "      <td>2020-12-21</td>\n",
       "      <td>0.164909</td>\n",
       "    </tr>\n",
       "    <tr>\n",
       "      <th>1</th>\n",
       "      <td>2020-12-22</td>\n",
       "      <td>0.165805</td>\n",
       "    </tr>\n",
       "    <tr>\n",
       "      <th>2</th>\n",
       "      <td>2020-12-23</td>\n",
       "      <td>0.188234</td>\n",
       "    </tr>\n",
       "    <tr>\n",
       "      <th>3</th>\n",
       "      <td>2020-12-24</td>\n",
       "      <td>0.120782</td>\n",
       "    </tr>\n",
       "    <tr>\n",
       "      <th>4</th>\n",
       "      <td>2020-12-25</td>\n",
       "      <td>0.094935</td>\n",
       "    </tr>\n",
       "    <tr>\n",
       "      <th>...</th>\n",
       "      <td>...</td>\n",
       "      <td>...</td>\n",
       "    </tr>\n",
       "    <tr>\n",
       "      <th>257</th>\n",
       "      <td>2021-11-08</td>\n",
       "      <td>0.238350</td>\n",
       "    </tr>\n",
       "    <tr>\n",
       "      <th>258</th>\n",
       "      <td>2021-11-09</td>\n",
       "      <td>-0.032040</td>\n",
       "    </tr>\n",
       "    <tr>\n",
       "      <th>259</th>\n",
       "      <td>2021-11-10</td>\n",
       "      <td>-0.014208</td>\n",
       "    </tr>\n",
       "    <tr>\n",
       "      <th>260</th>\n",
       "      <td>2021-11-11</td>\n",
       "      <td>0.034292</td>\n",
       "    </tr>\n",
       "    <tr>\n",
       "      <th>261</th>\n",
       "      <td>2021-11-12</td>\n",
       "      <td>0.211394</td>\n",
       "    </tr>\n",
       "  </tbody>\n",
       "</table>\n",
       "<p>262 rows × 2 columns</p>\n",
       "</div>"
      ],
      "text/plain": [
       "           date  compound_score\n",
       "0    2020-12-21        0.164909\n",
       "1    2020-12-22        0.165805\n",
       "2    2020-12-23        0.188234\n",
       "3    2020-12-24        0.120782\n",
       "4    2020-12-25        0.094935\n",
       "..          ...             ...\n",
       "257  2021-11-08        0.238350\n",
       "258  2021-11-09       -0.032040\n",
       "259  2021-11-10       -0.014208\n",
       "260  2021-11-11        0.034292\n",
       "261  2021-11-12        0.211394\n",
       "\n",
       "[262 rows x 2 columns]"
      ]
     },
     "execution_count": 383,
     "metadata": {},
     "output_type": "execute_result"
    }
   ],
   "source": [
    "comp_d_avg_df"
   ]
  },
  {
   "cell_type": "code",
   "execution_count": 384,
   "metadata": {},
   "outputs": [],
   "source": [
    "#Using for later visualization\n",
    "compound_copy = comp_d_avg_df.copy()"
   ]
  },
  {
   "cell_type": "markdown",
   "metadata": {},
   "source": [
    "**Merging Datasets**"
   ]
  },
  {
   "cell_type": "code",
   "execution_count": 385,
   "metadata": {},
   "outputs": [],
   "source": [
    "pfizer_SPY_merged = pfizer_stock_data_copy.merge(spy_stock_data_copy, how = 'outer', on='date')"
   ]
  },
  {
   "cell_type": "code",
   "execution_count": 386,
   "metadata": {},
   "outputs": [
    {
     "data": {
      "text/html": [
       "<div>\n",
       "<style scoped>\n",
       "    .dataframe tbody tr th:only-of-type {\n",
       "        vertical-align: middle;\n",
       "    }\n",
       "\n",
       "    .dataframe tbody tr th {\n",
       "        vertical-align: top;\n",
       "    }\n",
       "\n",
       "    .dataframe thead th {\n",
       "        text-align: right;\n",
       "    }\n",
       "</style>\n",
       "<table border=\"1\" class=\"dataframe\">\n",
       "  <thead>\n",
       "    <tr style=\"text-align: right;\">\n",
       "      <th></th>\n",
       "      <th>date</th>\n",
       "      <th>compound_score</th>\n",
       "      <th>daily_percent_change_PFE</th>\n",
       "      <th>daily_percent_change_spy</th>\n",
       "    </tr>\n",
       "  </thead>\n",
       "  <tbody>\n",
       "    <tr>\n",
       "      <th>0</th>\n",
       "      <td>2020-12-21</td>\n",
       "      <td>0.164909</td>\n",
       "      <td>0.002682</td>\n",
       "      <td>0.007918</td>\n",
       "    </tr>\n",
       "    <tr>\n",
       "      <th>1</th>\n",
       "      <td>2020-12-22</td>\n",
       "      <td>0.165805</td>\n",
       "      <td>-0.012631</td>\n",
       "      <td>-0.002634</td>\n",
       "    </tr>\n",
       "    <tr>\n",
       "      <th>2</th>\n",
       "      <td>2020-12-23</td>\n",
       "      <td>0.188234</td>\n",
       "      <td>0.011619</td>\n",
       "      <td>-0.001928</td>\n",
       "    </tr>\n",
       "    <tr>\n",
       "      <th>3</th>\n",
       "      <td>2020-12-24</td>\n",
       "      <td>0.120782</td>\n",
       "      <td>-0.003476</td>\n",
       "      <td>0.002499</td>\n",
       "    </tr>\n",
       "    <tr>\n",
       "      <th>4</th>\n",
       "      <td>2020-12-28</td>\n",
       "      <td>0.035964</td>\n",
       "      <td>-0.014454</td>\n",
       "      <td>0.001157</td>\n",
       "    </tr>\n",
       "    <tr>\n",
       "      <th>...</th>\n",
       "      <td>...</td>\n",
       "      <td>...</td>\n",
       "      <td>...</td>\n",
       "      <td>...</td>\n",
       "    </tr>\n",
       "    <tr>\n",
       "      <th>179</th>\n",
       "      <td>2021-11-08</td>\n",
       "      <td>0.238350</td>\n",
       "      <td>-0.005760</td>\n",
       "      <td>-0.001639</td>\n",
       "    </tr>\n",
       "    <tr>\n",
       "      <th>180</th>\n",
       "      <td>2021-11-09</td>\n",
       "      <td>-0.032040</td>\n",
       "      <td>-0.021312</td>\n",
       "      <td>-0.004134</td>\n",
       "    </tr>\n",
       "    <tr>\n",
       "      <th>181</th>\n",
       "      <td>2021-11-10</td>\n",
       "      <td>-0.014208</td>\n",
       "      <td>0.034177</td>\n",
       "      <td>-0.004210</td>\n",
       "    </tr>\n",
       "    <tr>\n",
       "      <th>182</th>\n",
       "      <td>2021-11-11</td>\n",
       "      <td>0.034292</td>\n",
       "      <td>0.019297</td>\n",
       "      <td>-0.003095</td>\n",
       "    </tr>\n",
       "    <tr>\n",
       "      <th>183</th>\n",
       "      <td>2021-11-12</td>\n",
       "      <td>0.211394</td>\n",
       "      <td>-0.013685</td>\n",
       "      <td>0.004622</td>\n",
       "    </tr>\n",
       "  </tbody>\n",
       "</table>\n",
       "<p>184 rows × 4 columns</p>\n",
       "</div>"
      ],
      "text/plain": [
       "           date  compound_score  daily_percent_change_PFE  \\\n",
       "0    2020-12-21        0.164909                  0.002682   \n",
       "1    2020-12-22        0.165805                 -0.012631   \n",
       "2    2020-12-23        0.188234                  0.011619   \n",
       "3    2020-12-24        0.120782                 -0.003476   \n",
       "4    2020-12-28        0.035964                 -0.014454   \n",
       "..          ...             ...                       ...   \n",
       "179  2021-11-08        0.238350                 -0.005760   \n",
       "180  2021-11-09       -0.032040                 -0.021312   \n",
       "181  2021-11-10       -0.014208                  0.034177   \n",
       "182  2021-11-11        0.034292                  0.019297   \n",
       "183  2021-11-12        0.211394                 -0.013685   \n",
       "\n",
       "     daily_percent_change_spy  \n",
       "0                    0.007918  \n",
       "1                   -0.002634  \n",
       "2                   -0.001928  \n",
       "3                    0.002499  \n",
       "4                    0.001157  \n",
       "..                        ...  \n",
       "179                 -0.001639  \n",
       "180                 -0.004134  \n",
       "181                 -0.004210  \n",
       "182                 -0.003095  \n",
       "183                  0.004622  \n",
       "\n",
       "[184 rows x 4 columns]"
      ]
     },
     "execution_count": 386,
     "metadata": {},
     "output_type": "execute_result"
    }
   ],
   "source": [
    "comp_score_stocks_merged = comp_d_avg_df.merge(pfizer_SPY_merged, how = 'inner', on = 'date')\n",
    "comp_score_stocks_merged"
   ]
  },
  {
   "cell_type": "markdown",
   "metadata": {},
   "source": [
    "**Correlation Coefficients**"
   ]
  },
  {
   "cell_type": "code",
   "execution_count": 402,
   "metadata": {},
   "outputs": [
    {
     "data": {
      "text/plain": [
       "(-0.08105072748286957, 0.27407179529538434)"
      ]
     },
     "execution_count": 402,
     "metadata": {},
     "output_type": "execute_result"
    }
   ],
   "source": [
    "pearsonr(comp_score_stocks_merged[\"compound_score\"],comp_score_stocks_merged[\"daily_percent_change_PFE\"])"
   ]
  },
  {
   "cell_type": "code",
   "execution_count": 404,
   "metadata": {},
   "outputs": [
    {
     "data": {
      "text/plain": [
       "(0.2327382103435785, 0.0014764452687195265)"
      ]
     },
     "execution_count": 404,
     "metadata": {},
     "output_type": "execute_result"
    }
   ],
   "source": [
    "pearsonr(comp_score_stocks_merged[\"daily_percent_change_PFE\"],comp_score_stocks_merged[\"daily_percent_change_spy\"])"
   ]
  },
  {
   "cell_type": "markdown",
   "metadata": {},
   "source": [
    "## Visualizations"
   ]
  },
  {
   "cell_type": "code",
   "execution_count": 388,
   "metadata": {},
   "outputs": [],
   "source": [
    "compound_copy['date'] = pd.to_datetime(compound_copy['date'])"
   ]
  },
  {
   "cell_type": "code",
   "execution_count": 389,
   "metadata": {},
   "outputs": [],
   "source": [
    "compound_copy = compound_copy.set_index('date')"
   ]
  },
  {
   "cell_type": "code",
   "execution_count": 390,
   "metadata": {},
   "outputs": [
    {
     "data": {
      "text/plain": [
       "True"
      ]
     },
     "execution_count": 390,
     "metadata": {},
     "output_type": "execute_result"
    }
   ],
   "source": [
    "isinstance(compound_copy.index, pd.DatetimeIndex)"
   ]
  },
  {
   "cell_type": "code",
   "execution_count": 391,
   "metadata": {},
   "outputs": [],
   "source": [
    "compound_score_calmap_series = pd.Series(compound_copy.compound_score)"
   ]
  },
  {
   "cell_type": "code",
   "execution_count": 392,
   "metadata": {},
   "outputs": [
    {
     "data": {
      "text/plain": [
       "date\n",
       "2020-12-21    0.164909\n",
       "2020-12-22    0.165805\n",
       "2020-12-23    0.188234\n",
       "2020-12-24    0.120782\n",
       "2020-12-25    0.094935\n",
       "                ...   \n",
       "2021-11-08    0.238350\n",
       "2021-11-09   -0.032040\n",
       "2021-11-10   -0.014208\n",
       "2021-11-11    0.034292\n",
       "2021-11-12    0.211394\n",
       "Name: compound_score, Length: 262, dtype: float64"
      ]
     },
     "execution_count": 392,
     "metadata": {},
     "output_type": "execute_result"
    }
   ],
   "source": [
    "compound_score_calmap_series"
   ]
  },
  {
   "cell_type": "code",
   "execution_count": 343,
   "metadata": {},
   "outputs": [
    {
     "ename": "AttributeError",
     "evalue": "'DatetimeIndex' object has no attribute 'isocalendar'",
     "output_type": "error",
     "traceback": [
      "\u001b[0;31m---------------------------------------------------------------------------\u001b[0m",
      "\u001b[0;31mAttributeError\u001b[0m                            Traceback (most recent call last)",
      "\u001b[0;32m<ipython-input-343-213c7c545025>\u001b[0m in \u001b[0;36m<module>\u001b[0;34m\u001b[0m\n\u001b[0;32m----> 1\u001b[0;31m \u001b[0mcalmap\u001b[0m\u001b[0;34m.\u001b[0m\u001b[0mcalendarplot\u001b[0m\u001b[0;34m(\u001b[0m\u001b[0mdata\u001b[0m\u001b[0;34m=\u001b[0m\u001b[0mcompound_score_calmap_series\u001b[0m\u001b[0;34m,\u001b[0m \u001b[0mfig_kws\u001b[0m\u001b[0;34m=\u001b[0m\u001b[0mdict\u001b[0m\u001b[0;34m(\u001b[0m\u001b[0mfigsize\u001b[0m\u001b[0;34m=\u001b[0m\u001b[0;34m(\u001b[0m\u001b[0;36m16\u001b[0m\u001b[0;34m,\u001b[0m\u001b[0;36m8\u001b[0m\u001b[0;34m)\u001b[0m\u001b[0;34m)\u001b[0m\u001b[0;34m)\u001b[0m\u001b[0;34m\u001b[0m\u001b[0;34m\u001b[0m\u001b[0m\n\u001b[0m",
      "\u001b[0;32m~/opt/anaconda3/envs/py36/lib/python3.6/site-packages/calmap/__init__.py\u001b[0m in \u001b[0;36mcalendarplot\u001b[0;34m(data, how, yearlabels, yearascending, yearlabel_kws, subplot_kws, gridspec_kws, fig_kws, fig_suptitle, vmin, vmax, **kwargs)\u001b[0m\n\u001b[1;32m    401\u001b[0m \u001b[0;34m\u001b[0m\u001b[0m\n\u001b[1;32m    402\u001b[0m     \u001b[0;32mfor\u001b[0m \u001b[0myear\u001b[0m\u001b[0;34m,\u001b[0m \u001b[0max\u001b[0m \u001b[0;32min\u001b[0m \u001b[0mzip\u001b[0m\u001b[0;34m(\u001b[0m\u001b[0myears\u001b[0m\u001b[0;34m,\u001b[0m \u001b[0maxes\u001b[0m\u001b[0;34m)\u001b[0m\u001b[0;34m:\u001b[0m\u001b[0;34m\u001b[0m\u001b[0;34m\u001b[0m\u001b[0m\n\u001b[0;32m--> 403\u001b[0;31m         \u001b[0myearplot\u001b[0m\u001b[0;34m(\u001b[0m\u001b[0mby_day\u001b[0m\u001b[0;34m,\u001b[0m \u001b[0myear\u001b[0m\u001b[0;34m=\u001b[0m\u001b[0myear\u001b[0m\u001b[0;34m,\u001b[0m \u001b[0mhow\u001b[0m\u001b[0;34m=\u001b[0m\u001b[0;32mNone\u001b[0m\u001b[0;34m,\u001b[0m \u001b[0max\u001b[0m\u001b[0;34m=\u001b[0m\u001b[0max\u001b[0m\u001b[0;34m,\u001b[0m \u001b[0;34m**\u001b[0m\u001b[0mkwargs\u001b[0m\u001b[0;34m)\u001b[0m\u001b[0;34m\u001b[0m\u001b[0;34m\u001b[0m\u001b[0m\n\u001b[0m\u001b[1;32m    404\u001b[0m         \u001b[0mmax_weeks\u001b[0m \u001b[0;34m=\u001b[0m \u001b[0mmax\u001b[0m\u001b[0;34m(\u001b[0m\u001b[0mmax_weeks\u001b[0m\u001b[0;34m,\u001b[0m \u001b[0max\u001b[0m\u001b[0;34m.\u001b[0m\u001b[0mget_xlim\u001b[0m\u001b[0;34m(\u001b[0m\u001b[0;34m)\u001b[0m\u001b[0;34m[\u001b[0m\u001b[0;36m1\u001b[0m\u001b[0;34m]\u001b[0m\u001b[0;34m)\u001b[0m\u001b[0;34m\u001b[0m\u001b[0;34m\u001b[0m\u001b[0m\n\u001b[1;32m    405\u001b[0m \u001b[0;34m\u001b[0m\u001b[0m\n",
      "\u001b[0;32m~/opt/anaconda3/envs/py36/lib/python3.6/site-packages/calmap/__init__.py\u001b[0m in \u001b[0;36myearplot\u001b[0;34m(data, year, how, vmin, vmax, cmap, fillcolor, linewidth, linecolor, daylabels, dayticks, monthlabels, monthticks, monthly_border, ax, **kwargs)\u001b[0m\n\u001b[1;32m    187\u001b[0m             \u001b[0;34m\"fill\"\u001b[0m\u001b[0;34m:\u001b[0m \u001b[0;36m1\u001b[0m\u001b[0;34m,\u001b[0m\u001b[0;34m\u001b[0m\u001b[0;34m\u001b[0m\u001b[0m\n\u001b[1;32m    188\u001b[0m             \u001b[0;34m\"day\"\u001b[0m\u001b[0;34m:\u001b[0m \u001b[0mby_day\u001b[0m\u001b[0;34m.\u001b[0m\u001b[0mindex\u001b[0m\u001b[0;34m.\u001b[0m\u001b[0mdayofweek\u001b[0m\u001b[0;34m,\u001b[0m\u001b[0;34m\u001b[0m\u001b[0;34m\u001b[0m\u001b[0m\n\u001b[0;32m--> 189\u001b[0;31m             \u001b[0;34m\"week\"\u001b[0m\u001b[0;34m:\u001b[0m \u001b[0mby_day\u001b[0m\u001b[0;34m.\u001b[0m\u001b[0mindex\u001b[0m\u001b[0;34m.\u001b[0m\u001b[0misocalendar\u001b[0m\u001b[0;34m(\u001b[0m\u001b[0;34m)\u001b[0m\u001b[0;34m.\u001b[0m\u001b[0mweek\u001b[0m\u001b[0;34m,\u001b[0m\u001b[0;34m\u001b[0m\u001b[0;34m\u001b[0m\u001b[0m\n\u001b[0m\u001b[1;32m    190\u001b[0m         }\n\u001b[1;32m    191\u001b[0m     )\n",
      "\u001b[0;31mAttributeError\u001b[0m: 'DatetimeIndex' object has no attribute 'isocalendar'"
     ]
    },
    {
     "data": {
      "image/png": "[encoded data removed]",
      "text/plain": [
       "<Figure size 1152x576 with 2 Axes>"
      ]
     },
     "metadata": {
      "needs_background": "light"
     },
     "output_type": "display_data"
    }
   ],
   "source": [
    "calmap.calendarplot(data=compound_score_calmap_series, fig_kws=dict(figsize=(16,8)))"
   ]
  }
 ],
 "metadata": {
  "kernelspec": {
   "display_name": "Python 3",
   "language": "python",
   "name": "python3"
  },
  "language_info": {
   "codemirror_mode": {
    "name": "ipython",
    "version": 3
   },
   "file_extension": ".py",
   "mimetype": "text/x-python",
   "name": "python",
   "nbconvert_exporter": "python",
   "pygments_lexer": "ipython3",
   "version": "3.6.10"
  }
 },
 "nbformat": 4,
 "nbformat_minor": 4
}
