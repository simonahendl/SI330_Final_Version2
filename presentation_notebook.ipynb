{
 "cells": [
  {
   "cell_type": "markdown",
   "id": "653d982e",
   "metadata": {
    "slideshow": {
     "slide_type": "slide"
    }
   },
   "source": [
    "## SI 330 Final Presentation Notebook\n",
    "\n",
    "## Pfizer Tweet Sentiment Analysis Compared to Pfizer Stock Performance\n",
    "\n",
    "**Simona Hendl**"
   ]
  },
  {
   "cell_type": "code",
   "execution_count": null,
   "id": "99695eae",
   "metadata": {},
   "outputs": [],
   "source": [
    "#Imports \n",
    "\n",
    "!pip install emoji\n",
    "!pip install langdetect\n",
    "!pip install calplot\n",
    "!pip install calmap\n",
    "!pip install vaderSentiment\n",
    "\n",
    "import pandas as pd\n",
    "import numpy as np\n",
    "import datetime as dt\n",
    "import datetime\n",
    "from datetime import datetime\n",
    "import matplotlib.pyplot as plt\n",
    "from matplotlib.dates import DateFormatter\n",
    "from matplotlib.pyplot import figure\n",
    "from matplotlib import dates\n",
    "%matplotlib inline\n",
    "import calplot\n",
    "import calmap\n",
    "import seaborn as sns\n",
    "import csv\n",
    "import re\n",
    "import os\n",
    "from nltk.sentiment import SentimentIntensityAnalyzer\n",
    "import emoji\n",
    "from langdetect import detect\n",
    "from scipy.stats import pearsonr"
   ]
  },
  {
   "cell_type": "markdown",
   "id": "e6eac750",
   "metadata": {},
   "source": [
    "**Cleaning Functions**\n",
    "\n",
    "Please look at the Data Preprocessing section in the SI330_Final.ipynb to see all the data cleaning function. \n"
   ]
  },
  {
   "cell_type": "markdown",
   "id": "f9f106f3",
   "metadata": {
    "slideshow": {
     "slide_type": "slide"
    }
   },
   "source": [
    "**Problem Statement**\n",
    "\n",
    "The COVID-19 pandemic surged to new heights during fall of 2020. Pfizer-BioNTech (among other companies) created a vaccine to help combat the virus. Due to this development, Pfizer's stock performance has fluctuation, and one factor, among many, that has some influence in stock performance is company image often reflected by public opinion.\n",
    "\n",
    "The goal for this project is to figure out how strong (if any) is the correlation between public sentiment (using Pfizer-BioNTech tweets from Twitter) and Pfizer stock performance. "
   ]
  },
  {
   "cell_type": "markdown",
   "id": "842c8b85",
   "metadata": {
    "slideshow": {
     "slide_type": "slide"
    }
   },
   "source": [
    "<img src=\"Pfizer_(2021).png\" width=400 height=400 />"
   ]
  },
  {
   "cell_type": "markdown",
   "id": "0b4a9671",
   "metadata": {
    "slideshow": {
     "slide_type": "slide"
    }
   },
   "source": [
    "To answer this question three datasets will be used: Pfizer-BioNTech Twitter Data, Pfizer (PFE) Stock Data, and SPY Stock Data. Each dataset was found via Kaggle and downloaded as a CSV. \n",
    "\n",
    "Pfizer-BioNTech Twitter Data: 4543533 bytes. 11020 rows and 16 columns. \n",
    "\n",
    "Pfizer (PFE) Stock Data: 837713 bytes. 12474 rows and 7 columns.\n",
    "\n",
    "SPY Stock Data: 61670 bytes. 1258 rows and 6 columns"
   ]
  },
  {
   "cell_type": "markdown",
   "id": "15995a56",
   "metadata": {
    "slideshow": {
     "slide_type": "slide"
    }
   },
   "source": [
    "**Data Cleaning and Manipulation**\n",
    "\n",
    "To address my central question, the following data cleaning steps were necessary:\n",
    "\n",
    "1) Subsetting the data to have the same time frame for each dataset.\n",
    "\n",
    "2) Converting all emojis to text in the Twitter data. \n",
    "\n",
    "3) Removing all mentions, urls, and special characters from Twitter data.\n",
    "\n",
    "4) Converting the dates to datetime objects for the final merges and visualizations. \n",
    "\n",
    "Manipulation\n",
    "1) Using the Vader Sentiment Analyzer to calculate each tweet's polarity score, and then calcualte the average compound polarity score for each day\n",
    "\n",
    "2) Calculate the daily percent change ((Close - Open)/Open) for the PFE and SPY data. \n",
    "\n",
    "3) Merge the stock and tweet data together. "
   ]
  },
  {
   "cell_type": "markdown",
   "id": "5868e26f",
   "metadata": {
    "slideshow": {
     "slide_type": "slide"
    }
   },
   "source": [
    "**Analysis**"
   ]
  },
  {
   "cell_type": "markdown",
   "id": "c26ba429",
   "metadata": {},
   "source": [
    "The graph below shows the daily average compound polarity data for the Pfizer-BioNTech Tweets"
   ]
  },
  {
   "cell_type": "markdown",
   "id": "07c01169",
   "metadata": {
    "slideshow": {
     "slide_type": "slide"
    }
   },
   "source": [
    "<img src=\"calendar_map.png\" width=800 height=800 />"
   ]
  },
  {
   "cell_type": "markdown",
   "id": "235a1e82",
   "metadata": {},
   "source": [
    "The graph below shows the comparison between the Pfizer Stock data and the SPY Index Data, comparing the Pfizer stock performance in comparison to the overall stock market."
   ]
  },
  {
   "cell_type": "markdown",
   "id": "a3afac4d",
   "metadata": {
    "slideshow": {
     "slide_type": "slide"
    }
   },
   "source": [
    "<img src=\"PFE_SPY_stocks.png\" width=1000 height=1000 />"
   ]
  },
  {
   "cell_type": "markdown",
   "id": "216ce757",
   "metadata": {
    "slideshow": {
     "slide_type": "slide"
    }
   },
   "source": [
    "<img src=\"compound.png\" width=1000 height=1000 />"
   ]
  },
  {
   "cell_type": "markdown",
   "id": "4b81f5e6",
   "metadata": {
    "slideshow": {
     "slide_type": "slide"
    }
   },
   "source": [
    "Ultimately, there was only a slight negative correlation between the daily average compound polarity score (found from the Pfizer BioNTech tweets) and Pfizer Stock Data. The correlation coefficient was -0.07986, and the p-value was 0.2812, so while there is a slight negative correlation, the p-value is above the common threshold of statistical signifiance (5%); therefore, the correlation coefficient is not statistically signficant."
   ]
  },
  {
   "cell_type": "markdown",
   "id": "46f72224",
   "metadata": {
    "slideshow": {
     "slide_type": "slide"
    }
   },
   "source": [
    "<img src=\"stock_corr.png\" width=1000 height=1000 />"
   ]
  },
  {
   "cell_type": "markdown",
   "id": "f6b933bb",
   "metadata": {
    "slideshow": {
     "slide_type": "slide"
    }
   },
   "source": [
    "To check that any change in Pfizer stock behavior was not in fact as a result of overall market performance rather than sentiment, the correlation between daily percent change for PFE and daily percent change for SPY (used to track the S&P 500's index) was also found. The correlation coefficient of 0.2812 is slightly larger meaning that there is stronger correlation between Pfizer's stock performance and the overall market rather than sentiment; however, the correlation coefficient is still small, meaning that the relationship is still relatively weak. One important thing to note though is that the p-value for this correlation coefficent is 0.001476, which is lower than the necessary threshold hold for statisical signifance. Thus, while the correlation itself is relatively weak between PFE and SPY stock/index performance, the value is statistically significant."
   ]
  },
  {
   "cell_type": "markdown",
   "id": "77e7adbc",
   "metadata": {
    "slideshow": {
     "slide_type": "slide"
    }
   },
   "source": [
    "**Takeaways**\n",
    "\n",
    "With that said, public sentiment, in this scenario, was less correlated with the Pfizer Stock data relative to the overall stock market performance. While there is some significance, there are other factors that can be tested that may have more influence on Pfizer's Stock data than public sentiment via Twitter. "
   ]
  },
  {
   "cell_type": "markdown",
   "id": "0c4b45c8",
   "metadata": {},
   "source": [
    "**References**\n",
    "\n",
    "Calplot video: https://www.youtube.com/watch?v=cKMEL9xgq2I"
   ]
  }
 ],
 "metadata": {
  "celltoolbar": "Slideshow",
  "kernelspec": {
   "display_name": "Python 3 (ipykernel)",
   "language": "python",
   "name": "python3"
  },
  "language_info": {
   "codemirror_mode": {
    "name": "ipython",
    "version": 3
   },
   "file_extension": ".py",
   "mimetype": "text/x-python",
   "name": "python",
   "nbconvert_exporter": "python",
   "pygments_lexer": "ipython3",
   "version": "3.9.7"
  }
 },
 "nbformat": 4,
 "nbformat_minor": 5
}
